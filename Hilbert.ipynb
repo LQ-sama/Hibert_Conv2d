{
 "cells": [
  {
   "cell_type": "code",
   "execution_count": 64,
   "metadata": {},
   "outputs": [],
   "source": [
    "import numpy as np\n",
    "import sys\n",
    "import math\n",
    "import torch\n",
    "from torch import nn\n",
    "def hilbertCurve(order):\n",
    "    for i in range(0,order):\n",
    "        if i == 0:\n",
    "            curve = np.array([[0,1],[3,2]])\n",
    "        else:\n",
    "            offset = 4**(i)\n",
    "            q1 = np.rot90(np.flip(curve,0),-1)\n",
    "            q2 = curve + offset\n",
    "            q3 = curve + offset*2\n",
    "            q4 = np.rot90(np.flip(curve,1),-1) + offset*3\n",
    "            top = np.concatenate((q1,q2),axis=1)\n",
    "            bot = np.concatenate((q4,q3),axis=1)\n",
    "            curve = np.concatenate((top,bot))\n",
    "    return(curve)\n",
    "\n",
    "def Get_Hilbert_index(order,sequential):\n",
    "    the_curve = hilbertCurve(order)\n",
    "    index = np.argwhere(the_curve == sequential)\n",
    "    return index"
   ]
  },
  {
   "cell_type": "code",
   "execution_count": 65,
   "metadata": {},
   "outputs": [],
   "source": [
    "\n",
    "####将张量转化为Hilber展开\n",
    "def From_Tensor_to_Line(input_tensor):\n",
    "    device = input_tensor.device()\n",
    "    input_shape = input_tensor.shape\n",
    "    the_order = int(np.log2(input_tensor.shape[3]))\n",
    "    padding_method = nn.ConstantPad2d((1,1,1,1),0)####填充\n",
    "    input_tensor = padding_method(input_tensor)\n",
    "\n",
    "    output_tensor = torch.rand([input_shape[0],input_shape[1],3,input_shape[2]*input_shape[2]*3])\n",
    "    \n",
    "    for i in range(input_shape[2]*input_shape[2]):\n",
    "        index = Get_Hilbert_index(order=the_order,sequential=i)\n",
    "        index1 = index[0][0]\n",
    "        index2 = index[0][1] \n",
    "        for p in [-1,0,1]:\n",
    "            for q in [-1,0,1]:\n",
    "                output_tensor[:,:,1+p,3*i+1+q] = input_tensor[:,:,index1+1+p,index2+1+q]\n",
    "    output_tensor = output_tensor.to(device)            \n",
    "\n",
    "    return output_tensor\n",
    "\n",
    "\n"
   ]
  },
  {
   "cell_type": "code",
   "execution_count": 66,
   "metadata": {},
   "outputs": [],
   "source": [
    "\n",
    "\n",
    "def From_Line_to_2d(input_tensor):\n",
    "    device = input_tensor.device()\n",
    "    input_shape = input_tensor.shape\n",
    "    size = int(math.sqrt(input_shape[3]))\n",
    "    the_order = int(np.log2(size))\n",
    "\n",
    "    output_tensor = torch.rand([input_shape[0],input_shape[1],size,size])\n",
    "    for i in range(input_shape[3]):\n",
    "        index = Get_Hilbert_index(order=the_order,sequential=i)\n",
    "        index1 = index[0][0]\n",
    "        index2 = index[0][1]\n",
    "        output_tensor[:,:,index1,index2] = input_tensor[:,:,0,i]\n",
    "    output_tensor = output_tensor.to(device)  \n",
    "    return output_tensor\n",
    "\n",
    "\n",
    "\n",
    "    "
   ]
  },
  {
   "cell_type": "code",
   "execution_count": null,
   "metadata": {},
   "outputs": [],
   "source": []
  },
  {
   "cell_type": "code",
   "execution_count": null,
   "metadata": {},
   "outputs": [],
   "source": []
  }
 ],
 "metadata": {
  "kernelspec": {
   "display_name": "test001",
   "language": "python",
   "name": "python3"
  },
  "language_info": {
   "codemirror_mode": {
    "name": "ipython",
    "version": 3
   },
   "file_extension": ".py",
   "mimetype": "text/x-python",
   "name": "python",
   "nbconvert_exporter": "python",
   "pygments_lexer": "ipython3",
   "version": "3.7.1"
  }
 },
 "nbformat": 4,
 "nbformat_minor": 2
}
